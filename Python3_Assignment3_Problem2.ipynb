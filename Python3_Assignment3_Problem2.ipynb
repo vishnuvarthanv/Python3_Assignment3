{
 "cells": [
  {
   "cell_type": "code",
   "execution_count": 2,
   "metadata": {},
   "outputs": [
    {
     "name": "stdout",
     "output_type": "stream",
     "text": [
      "['A', 'C', 'A', 'D', 'G', 'I', 'L', 'D']\n",
      "['x', 'xx', 'xxx', 'xxxx', 'y', 'yy', 'yyy', 'yyyy', 'z', 'zz', 'zzz', 'zzzz']\n",
      "['x', 'y', 'z', 'xx', 'yy', 'zz', 'xxx', 'yyy', 'zzz', 'xxxx', 'yyyy', 'zzzz']\n",
      "[[2], [3], [4], [3], [4], [5], [4], [5], [6]]\n",
      "[[2, 3, 4, 5], [3, 4, 5, 6], [4, 5, 6, 7], [5, 6, 7, 8]]\n",
      "[(2, 1), (3, 1), (4, 1), (5, 1), (2, 2), (3, 2), (4, 2), (5, 2), (2, 3), (3, 3), (4, 3), (5, 3)]\n"
     ]
    }
   ],
   "source": [
    "inputList='ACADGILD'\n",
    "result= [x for x in inputList]\n",
    "print(result)\n",
    "\n",
    "inputList = ['x','y','z']\n",
    "result = [ item*num for item in inputList for num in range(1,5)  ]\n",
    "print(str(result))\n",
    "\n",
    "inputList = ['x','y','z']\n",
    "result = [ item*num for num in range(1,5) for item in inputList  ]\n",
    "print(str(result))\n",
    "\n",
    "inputList = [2,3,4]\n",
    "result = [ [item+num] for item in inputList for num in range(0,3)]\n",
    "print(str(result))\n",
    "\n",
    "input_list = [2,3,4,5]\n",
    "result = [ [item+num for item in input_list] for num in range(0,4)  ]\n",
    "print(str(result))\n",
    "\n",
    "inputList=[1,2,3]\n",
    "result = [ (b,a) for a in inputList for b in input_list]\n",
    "print(str(result))"
   ]
  },
  {
   "cell_type": "code",
   "execution_count": null,
   "metadata": {},
   "outputs": [],
   "source": []
  }
 ],
 "metadata": {
  "kernelspec": {
   "display_name": "Python 3",
   "language": "python",
   "name": "python3"
  },
  "language_info": {
   "codemirror_mode": {
    "name": "ipython",
    "version": 3
   },
   "file_extension": ".py",
   "mimetype": "text/x-python",
   "name": "python",
   "nbconvert_exporter": "python",
   "pygments_lexer": "ipython3",
   "version": "3.6.7"
  }
 },
 "nbformat": 4,
 "nbformat_minor": 2
}
